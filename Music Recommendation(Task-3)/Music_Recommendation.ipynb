{
 "cells": [
  {
   "cell_type": "code",
   "execution_count": 148,
   "metadata": {},
   "outputs": [],
   "source": [
    "import pandas as pd"
   ]
  },
  {
   "cell_type": "code",
   "execution_count": 149,
   "metadata": {},
   "outputs": [],
   "source": [
    "Music_Dataset = pd.read_csv(\"spotify_millsongdata.csv\")"
   ]
  },
  {
   "cell_type": "code",
   "execution_count": 150,
   "metadata": {},
   "outputs": [
    {
     "data": {
      "text/html": [
       "<div>\n",
       "<style scoped>\n",
       "    .dataframe tbody tr th:only-of-type {\n",
       "        vertical-align: middle;\n",
       "    }\n",
       "\n",
       "    .dataframe tbody tr th {\n",
       "        vertical-align: top;\n",
       "    }\n",
       "\n",
       "    .dataframe thead th {\n",
       "        text-align: right;\n",
       "    }\n",
       "</style>\n",
       "<table border=\"1\" class=\"dataframe\">\n",
       "  <thead>\n",
       "    <tr style=\"text-align: right;\">\n",
       "      <th></th>\n",
       "      <th>artist</th>\n",
       "      <th>song</th>\n",
       "      <th>link</th>\n",
       "      <th>text</th>\n",
       "    </tr>\n",
       "  </thead>\n",
       "  <tbody>\n",
       "    <tr>\n",
       "      <th>0</th>\n",
       "      <td>ABBA</td>\n",
       "      <td>Ahe's My Kind Of Girl</td>\n",
       "      <td>/a/abba/ahes+my+kind+of+girl_20598417.html</td>\n",
       "      <td>Look at her face, it's a wonderful face  \\r\\nA...</td>\n",
       "    </tr>\n",
       "    <tr>\n",
       "      <th>1</th>\n",
       "      <td>ABBA</td>\n",
       "      <td>Andante, Andante</td>\n",
       "      <td>/a/abba/andante+andante_20002708.html</td>\n",
       "      <td>Take it easy with me, please  \\r\\nTouch me gen...</td>\n",
       "    </tr>\n",
       "    <tr>\n",
       "      <th>2</th>\n",
       "      <td>ABBA</td>\n",
       "      <td>As Good As New</td>\n",
       "      <td>/a/abba/as+good+as+new_20003033.html</td>\n",
       "      <td>I'll never know why I had to go  \\r\\nWhy I had...</td>\n",
       "    </tr>\n",
       "    <tr>\n",
       "      <th>3</th>\n",
       "      <td>ABBA</td>\n",
       "      <td>Bang</td>\n",
       "      <td>/a/abba/bang_20598415.html</td>\n",
       "      <td>Making somebody happy is a question of give an...</td>\n",
       "    </tr>\n",
       "    <tr>\n",
       "      <th>4</th>\n",
       "      <td>ABBA</td>\n",
       "      <td>Bang-A-Boomerang</td>\n",
       "      <td>/a/abba/bang+a+boomerang_20002668.html</td>\n",
       "      <td>Making somebody happy is a question of give an...</td>\n",
       "    </tr>\n",
       "    <tr>\n",
       "      <th>...</th>\n",
       "      <td>...</td>\n",
       "      <td>...</td>\n",
       "      <td>...</td>\n",
       "      <td>...</td>\n",
       "    </tr>\n",
       "    <tr>\n",
       "      <th>57645</th>\n",
       "      <td>Ziggy Marley</td>\n",
       "      <td>Good Old Days</td>\n",
       "      <td>/z/ziggy+marley/good+old+days_10198588.html</td>\n",
       "      <td>Irie days come on play  \\r\\nLet the angels fly...</td>\n",
       "    </tr>\n",
       "    <tr>\n",
       "      <th>57646</th>\n",
       "      <td>Ziggy Marley</td>\n",
       "      <td>Hand To Mouth</td>\n",
       "      <td>/z/ziggy+marley/hand+to+mouth_20531167.html</td>\n",
       "      <td>Power to the workers  \\r\\nMore power  \\r\\nPowe...</td>\n",
       "    </tr>\n",
       "    <tr>\n",
       "      <th>57647</th>\n",
       "      <td>Zwan</td>\n",
       "      <td>Come With Me</td>\n",
       "      <td>/z/zwan/come+with+me_20148981.html</td>\n",
       "      <td>all you need  \\r\\nis something i'll believe  \\...</td>\n",
       "    </tr>\n",
       "    <tr>\n",
       "      <th>57648</th>\n",
       "      <td>Zwan</td>\n",
       "      <td>Desire</td>\n",
       "      <td>/z/zwan/desire_20148986.html</td>\n",
       "      <td>northern star  \\r\\nam i frightened  \\r\\nwhere ...</td>\n",
       "    </tr>\n",
       "    <tr>\n",
       "      <th>57649</th>\n",
       "      <td>Zwan</td>\n",
       "      <td>Heartsong</td>\n",
       "      <td>/z/zwan/heartsong_20148991.html</td>\n",
       "      <td>come in  \\r\\nmake yourself at home  \\r\\ni'm a ...</td>\n",
       "    </tr>\n",
       "  </tbody>\n",
       "</table>\n",
       "<p>57650 rows × 4 columns</p>\n",
       "</div>"
      ],
      "text/plain": [
       "             artist                   song  \\\n",
       "0              ABBA  Ahe's My Kind Of Girl   \n",
       "1              ABBA       Andante, Andante   \n",
       "2              ABBA         As Good As New   \n",
       "3              ABBA                   Bang   \n",
       "4              ABBA       Bang-A-Boomerang   \n",
       "...             ...                    ...   \n",
       "57645  Ziggy Marley          Good Old Days   \n",
       "57646  Ziggy Marley          Hand To Mouth   \n",
       "57647          Zwan           Come With Me   \n",
       "57648          Zwan                 Desire   \n",
       "57649          Zwan              Heartsong   \n",
       "\n",
       "                                              link  \\\n",
       "0       /a/abba/ahes+my+kind+of+girl_20598417.html   \n",
       "1            /a/abba/andante+andante_20002708.html   \n",
       "2             /a/abba/as+good+as+new_20003033.html   \n",
       "3                       /a/abba/bang_20598415.html   \n",
       "4           /a/abba/bang+a+boomerang_20002668.html   \n",
       "...                                            ...   \n",
       "57645  /z/ziggy+marley/good+old+days_10198588.html   \n",
       "57646  /z/ziggy+marley/hand+to+mouth_20531167.html   \n",
       "57647           /z/zwan/come+with+me_20148981.html   \n",
       "57648                 /z/zwan/desire_20148986.html   \n",
       "57649              /z/zwan/heartsong_20148991.html   \n",
       "\n",
       "                                                    text  \n",
       "0      Look at her face, it's a wonderful face  \\r\\nA...  \n",
       "1      Take it easy with me, please  \\r\\nTouch me gen...  \n",
       "2      I'll never know why I had to go  \\r\\nWhy I had...  \n",
       "3      Making somebody happy is a question of give an...  \n",
       "4      Making somebody happy is a question of give an...  \n",
       "...                                                  ...  \n",
       "57645  Irie days come on play  \\r\\nLet the angels fly...  \n",
       "57646  Power to the workers  \\r\\nMore power  \\r\\nPowe...  \n",
       "57647  all you need  \\r\\nis something i'll believe  \\...  \n",
       "57648  northern star  \\r\\nam i frightened  \\r\\nwhere ...  \n",
       "57649  come in  \\r\\nmake yourself at home  \\r\\ni'm a ...  \n",
       "\n",
       "[57650 rows x 4 columns]"
      ]
     },
     "execution_count": 150,
     "metadata": {},
     "output_type": "execute_result"
    }
   ],
   "source": [
    "Music_Dataset"
   ]
  },
  {
   "cell_type": "code",
   "execution_count": 151,
   "metadata": {},
   "outputs": [
    {
     "data": {
      "text/html": [
       "<div>\n",
       "<style scoped>\n",
       "    .dataframe tbody tr th:only-of-type {\n",
       "        vertical-align: middle;\n",
       "    }\n",
       "\n",
       "    .dataframe tbody tr th {\n",
       "        vertical-align: top;\n",
       "    }\n",
       "\n",
       "    .dataframe thead th {\n",
       "        text-align: right;\n",
       "    }\n",
       "</style>\n",
       "<table border=\"1\" class=\"dataframe\">\n",
       "  <thead>\n",
       "    <tr style=\"text-align: right;\">\n",
       "      <th></th>\n",
       "      <th>artist</th>\n",
       "      <th>song</th>\n",
       "      <th>link</th>\n",
       "      <th>text</th>\n",
       "    </tr>\n",
       "  </thead>\n",
       "  <tbody>\n",
       "    <tr>\n",
       "      <th>0</th>\n",
       "      <td>ABBA</td>\n",
       "      <td>Ahe's My Kind Of Girl</td>\n",
       "      <td>/a/abba/ahes+my+kind+of+girl_20598417.html</td>\n",
       "      <td>Look at her face, it's a wonderful face  \\r\\nA...</td>\n",
       "    </tr>\n",
       "    <tr>\n",
       "      <th>1</th>\n",
       "      <td>ABBA</td>\n",
       "      <td>Andante, Andante</td>\n",
       "      <td>/a/abba/andante+andante_20002708.html</td>\n",
       "      <td>Take it easy with me, please  \\r\\nTouch me gen...</td>\n",
       "    </tr>\n",
       "    <tr>\n",
       "      <th>2</th>\n",
       "      <td>ABBA</td>\n",
       "      <td>As Good As New</td>\n",
       "      <td>/a/abba/as+good+as+new_20003033.html</td>\n",
       "      <td>I'll never know why I had to go  \\r\\nWhy I had...</td>\n",
       "    </tr>\n",
       "    <tr>\n",
       "      <th>3</th>\n",
       "      <td>ABBA</td>\n",
       "      <td>Bang</td>\n",
       "      <td>/a/abba/bang_20598415.html</td>\n",
       "      <td>Making somebody happy is a question of give an...</td>\n",
       "    </tr>\n",
       "    <tr>\n",
       "      <th>4</th>\n",
       "      <td>ABBA</td>\n",
       "      <td>Bang-A-Boomerang</td>\n",
       "      <td>/a/abba/bang+a+boomerang_20002668.html</td>\n",
       "      <td>Making somebody happy is a question of give an...</td>\n",
       "    </tr>\n",
       "  </tbody>\n",
       "</table>\n",
       "</div>"
      ],
      "text/plain": [
       "  artist                   song                                        link  \\\n",
       "0   ABBA  Ahe's My Kind Of Girl  /a/abba/ahes+my+kind+of+girl_20598417.html   \n",
       "1   ABBA       Andante, Andante       /a/abba/andante+andante_20002708.html   \n",
       "2   ABBA         As Good As New        /a/abba/as+good+as+new_20003033.html   \n",
       "3   ABBA                   Bang                  /a/abba/bang_20598415.html   \n",
       "4   ABBA       Bang-A-Boomerang      /a/abba/bang+a+boomerang_20002668.html   \n",
       "\n",
       "                                                text  \n",
       "0  Look at her face, it's a wonderful face  \\r\\nA...  \n",
       "1  Take it easy with me, please  \\r\\nTouch me gen...  \n",
       "2  I'll never know why I had to go  \\r\\nWhy I had...  \n",
       "3  Making somebody happy is a question of give an...  \n",
       "4  Making somebody happy is a question of give an...  "
      ]
     },
     "execution_count": 151,
     "metadata": {},
     "output_type": "execute_result"
    }
   ],
   "source": [
    "Music_Dataset.head()"
   ]
  },
  {
   "cell_type": "code",
   "execution_count": 152,
   "metadata": {},
   "outputs": [
    {
     "data": {
      "text/html": [
       "<div>\n",
       "<style scoped>\n",
       "    .dataframe tbody tr th:only-of-type {\n",
       "        vertical-align: middle;\n",
       "    }\n",
       "\n",
       "    .dataframe tbody tr th {\n",
       "        vertical-align: top;\n",
       "    }\n",
       "\n",
       "    .dataframe thead th {\n",
       "        text-align: right;\n",
       "    }\n",
       "</style>\n",
       "<table border=\"1\" class=\"dataframe\">\n",
       "  <thead>\n",
       "    <tr style=\"text-align: right;\">\n",
       "      <th></th>\n",
       "      <th>artist</th>\n",
       "      <th>song</th>\n",
       "      <th>link</th>\n",
       "      <th>text</th>\n",
       "    </tr>\n",
       "  </thead>\n",
       "  <tbody>\n",
       "    <tr>\n",
       "      <th>57645</th>\n",
       "      <td>Ziggy Marley</td>\n",
       "      <td>Good Old Days</td>\n",
       "      <td>/z/ziggy+marley/good+old+days_10198588.html</td>\n",
       "      <td>Irie days come on play  \\r\\nLet the angels fly...</td>\n",
       "    </tr>\n",
       "    <tr>\n",
       "      <th>57646</th>\n",
       "      <td>Ziggy Marley</td>\n",
       "      <td>Hand To Mouth</td>\n",
       "      <td>/z/ziggy+marley/hand+to+mouth_20531167.html</td>\n",
       "      <td>Power to the workers  \\r\\nMore power  \\r\\nPowe...</td>\n",
       "    </tr>\n",
       "    <tr>\n",
       "      <th>57647</th>\n",
       "      <td>Zwan</td>\n",
       "      <td>Come With Me</td>\n",
       "      <td>/z/zwan/come+with+me_20148981.html</td>\n",
       "      <td>all you need  \\r\\nis something i'll believe  \\...</td>\n",
       "    </tr>\n",
       "    <tr>\n",
       "      <th>57648</th>\n",
       "      <td>Zwan</td>\n",
       "      <td>Desire</td>\n",
       "      <td>/z/zwan/desire_20148986.html</td>\n",
       "      <td>northern star  \\r\\nam i frightened  \\r\\nwhere ...</td>\n",
       "    </tr>\n",
       "    <tr>\n",
       "      <th>57649</th>\n",
       "      <td>Zwan</td>\n",
       "      <td>Heartsong</td>\n",
       "      <td>/z/zwan/heartsong_20148991.html</td>\n",
       "      <td>come in  \\r\\nmake yourself at home  \\r\\ni'm a ...</td>\n",
       "    </tr>\n",
       "  </tbody>\n",
       "</table>\n",
       "</div>"
      ],
      "text/plain": [
       "             artist           song  \\\n",
       "57645  Ziggy Marley  Good Old Days   \n",
       "57646  Ziggy Marley  Hand To Mouth   \n",
       "57647          Zwan   Come With Me   \n",
       "57648          Zwan         Desire   \n",
       "57649          Zwan      Heartsong   \n",
       "\n",
       "                                              link  \\\n",
       "57645  /z/ziggy+marley/good+old+days_10198588.html   \n",
       "57646  /z/ziggy+marley/hand+to+mouth_20531167.html   \n",
       "57647           /z/zwan/come+with+me_20148981.html   \n",
       "57648                 /z/zwan/desire_20148986.html   \n",
       "57649              /z/zwan/heartsong_20148991.html   \n",
       "\n",
       "                                                    text  \n",
       "57645  Irie days come on play  \\r\\nLet the angels fly...  \n",
       "57646  Power to the workers  \\r\\nMore power  \\r\\nPowe...  \n",
       "57647  all you need  \\r\\nis something i'll believe  \\...  \n",
       "57648  northern star  \\r\\nam i frightened  \\r\\nwhere ...  \n",
       "57649  come in  \\r\\nmake yourself at home  \\r\\ni'm a ...  "
      ]
     },
     "execution_count": 152,
     "metadata": {},
     "output_type": "execute_result"
    }
   ],
   "source": [
    "Music_Dataset.tail()"
   ]
  },
  {
   "cell_type": "code",
   "execution_count": 153,
   "metadata": {},
   "outputs": [
    {
     "data": {
      "text/plain": [
       "(57650, 4)"
      ]
     },
     "execution_count": 153,
     "metadata": {},
     "output_type": "execute_result"
    }
   ],
   "source": [
    "Music_Dataset.shape"
   ]
  },
  {
   "cell_type": "code",
   "execution_count": 154,
   "metadata": {},
   "outputs": [
    {
     "data": {
      "text/plain": [
       "artist    0\n",
       "song      0\n",
       "link      0\n",
       "text      0\n",
       "dtype: int64"
      ]
     },
     "execution_count": 154,
     "metadata": {},
     "output_type": "execute_result"
    }
   ],
   "source": [
    "Music_Dataset.isnull().sum()"
   ]
  },
  {
   "cell_type": "code",
   "execution_count": 155,
   "metadata": {},
   "outputs": [],
   "source": [
    "Music_Dataset = Music_Dataset.sample(5000).drop('link',axis=1).reset_index(drop=True)"
   ]
  },
  {
   "cell_type": "code",
   "execution_count": 156,
   "metadata": {},
   "outputs": [
    {
     "data": {
      "text/html": [
       "<div>\n",
       "<style scoped>\n",
       "    .dataframe tbody tr th:only-of-type {\n",
       "        vertical-align: middle;\n",
       "    }\n",
       "\n",
       "    .dataframe tbody tr th {\n",
       "        vertical-align: top;\n",
       "    }\n",
       "\n",
       "    .dataframe thead th {\n",
       "        text-align: right;\n",
       "    }\n",
       "</style>\n",
       "<table border=\"1\" class=\"dataframe\">\n",
       "  <thead>\n",
       "    <tr style=\"text-align: right;\">\n",
       "      <th></th>\n",
       "      <th>artist</th>\n",
       "      <th>song</th>\n",
       "      <th>text</th>\n",
       "    </tr>\n",
       "  </thead>\n",
       "  <tbody>\n",
       "    <tr>\n",
       "      <th>0</th>\n",
       "      <td>Starship</td>\n",
       "      <td>Stranger</td>\n",
       "      <td>Raindrops falling  \\r\\nWinter feels so gloomy ...</td>\n",
       "    </tr>\n",
       "    <tr>\n",
       "      <th>1</th>\n",
       "      <td>Rush</td>\n",
       "      <td>Lakeside Park</td>\n",
       "      <td>Midway hawkers calling  \\r\\nTry your luck with...</td>\n",
       "    </tr>\n",
       "    <tr>\n",
       "      <th>2</th>\n",
       "      <td>Arlo Guthrie</td>\n",
       "      <td>Presidential Rag</td>\n",
       "      <td>You said you didn't know  \\r\\nThat the cats wi...</td>\n",
       "    </tr>\n",
       "    <tr>\n",
       "      <th>3</th>\n",
       "      <td>John Prine</td>\n",
       "      <td>Third Of July</td>\n",
       "      <td>It was the third of july on a cool cloudy sky ...</td>\n",
       "    </tr>\n",
       "    <tr>\n",
       "      <th>4</th>\n",
       "      <td>Wyclef Jean</td>\n",
       "      <td>Who Gave The Order</td>\n",
       "      <td>I'm Buju Banton with the preacher's son  \\r\\n ...</td>\n",
       "    </tr>\n",
       "    <tr>\n",
       "      <th>5</th>\n",
       "      <td>Utopia</td>\n",
       "      <td>Love In Action</td>\n",
       "      <td>No place to hide  \\r\\nAnd no where to run  \\r\\...</td>\n",
       "    </tr>\n",
       "    <tr>\n",
       "      <th>6</th>\n",
       "      <td>ZZ Top</td>\n",
       "      <td>Certified Blues</td>\n",
       "      <td>I woke up this morning with these certified bl...</td>\n",
       "    </tr>\n",
       "    <tr>\n",
       "      <th>7</th>\n",
       "      <td>Hank Williams Jr.</td>\n",
       "      <td>Been There, Done That</td>\n",
       "      <td>Been there,done that.Every spot on the map.  \\...</td>\n",
       "    </tr>\n",
       "    <tr>\n",
       "      <th>8</th>\n",
       "      <td>Beach Boys</td>\n",
       "      <td>California</td>\n",
       "      <td>On my way to sunny California  \\r\\n  \\r\\nOn my...</td>\n",
       "    </tr>\n",
       "    <tr>\n",
       "      <th>9</th>\n",
       "      <td>Matt Redman</td>\n",
       "      <td>Trading My Sorrows (Yes Lord)</td>\n",
       "      <td>I'm trading my sorrows  \\r\\nI'm trading my sha...</td>\n",
       "    </tr>\n",
       "  </tbody>\n",
       "</table>\n",
       "</div>"
      ],
      "text/plain": [
       "              artist                           song  \\\n",
       "0           Starship                       Stranger   \n",
       "1               Rush                  Lakeside Park   \n",
       "2       Arlo Guthrie               Presidential Rag   \n",
       "3         John Prine                  Third Of July   \n",
       "4        Wyclef Jean             Who Gave The Order   \n",
       "5             Utopia                 Love In Action   \n",
       "6             ZZ Top                Certified Blues   \n",
       "7  Hank Williams Jr.          Been There, Done That   \n",
       "8         Beach Boys                     California   \n",
       "9        Matt Redman  Trading My Sorrows (Yes Lord)   \n",
       "\n",
       "                                                text  \n",
       "0  Raindrops falling  \\r\\nWinter feels so gloomy ...  \n",
       "1  Midway hawkers calling  \\r\\nTry your luck with...  \n",
       "2  You said you didn't know  \\r\\nThat the cats wi...  \n",
       "3  It was the third of july on a cool cloudy sky ...  \n",
       "4  I'm Buju Banton with the preacher's son  \\r\\n ...  \n",
       "5  No place to hide  \\r\\nAnd no where to run  \\r\\...  \n",
       "6  I woke up this morning with these certified bl...  \n",
       "7  Been there,done that.Every spot on the map.  \\...  \n",
       "8  On my way to sunny California  \\r\\n  \\r\\nOn my...  \n",
       "9  I'm trading my sorrows  \\r\\nI'm trading my sha...  "
      ]
     },
     "execution_count": 156,
     "metadata": {},
     "output_type": "execute_result"
    }
   ],
   "source": [
    "Music_Dataset.head(10)"
   ]
  },
  {
   "cell_type": "code",
   "execution_count": 157,
   "metadata": {},
   "outputs": [
    {
     "data": {
      "text/plain": [
       "\"Raindrops falling  \\r\\nWinter feels so gloomy  \\r\\nHear the knock upon my door  \\r\\nStranger calling  \\r\\nEyes that look like mine  \\r\\nSaid you know I've called before  \\r\\n  \\r\\nWhat is veiled now soon will be shown  \\r\\nCome walk with me through the unknown  \\r\\n  \\r\\nFamiliar stranger  \\r\\nShould I know your name  \\r\\nDid we meet some time ago  \\r\\nI feel uncertain  \\r\\nShadows whisper to me now  \\r\\nSudden wind begins to blow  \\r\\n  \\r\\nWhat is veiled now soon will be shown  \\r\\nCome walk with me through the unknown  \\r\\n  \\r\\nDarkened doorways  \\r\\nStrangest things can happen  \\r\\nDon't know who you're talking to  \\r\\nFind yourself  \\r\\nWhen lightning strikes you now  \\r\\nYou could be looking back at you  \\r\\n  \\r\\nWhat is veiled now soon will be shown  \\r\\nCome walk with me through the unknown  \\r\\n  \\r\\nWhat is veiled now soon will be shown  \\r\\nCome walk with me through the unknown  \\r\\n  \\r\\nStranger  \\r\\n  \\r\\nFamiliar stranger  \\r\\nShould I know your name  \\r\\nDid we meet some time ago  \\r\\nAre you someone I should know  \\r\\nDid we meet sometime ago\\r\\n\\r\\n\""
      ]
     },
     "execution_count": 157,
     "metadata": {},
     "output_type": "execute_result"
    }
   ],
   "source": [
    "Music_Dataset['text'][0]"
   ]
  },
  {
   "cell_type": "code",
   "execution_count": 158,
   "metadata": {},
   "outputs": [],
   "source": [
    "Music_Dataset = Music_Dataset.sample(5000)"
   ]
  },
  {
   "cell_type": "code",
   "execution_count": 159,
   "metadata": {},
   "outputs": [
    {
     "data": {
      "text/plain": [
       "(5000, 3)"
      ]
     },
     "execution_count": 159,
     "metadata": {},
     "output_type": "execute_result"
    }
   ],
   "source": [
    "Music_Dataset.shape"
   ]
  },
  {
   "cell_type": "markdown",
   "metadata": {},
   "source": [
    "TEXT CLEANING / TEXT PREPROCESSING"
   ]
  },
  {
   "cell_type": "code",
   "execution_count": 160,
   "metadata": {},
   "outputs": [],
   "source": [
    "Music_Dataset['text'] = Music_Dataset['text'].str.lower().replace(r'^\\w\\s','').replace(r'\\n','',regex = True)"
   ]
  },
  {
   "cell_type": "code",
   "execution_count": 161,
   "metadata": {},
   "outputs": [
    {
     "data": {
      "text/html": [
       "<div>\n",
       "<style scoped>\n",
       "    .dataframe tbody tr th:only-of-type {\n",
       "        vertical-align: middle;\n",
       "    }\n",
       "\n",
       "    .dataframe tbody tr th {\n",
       "        vertical-align: top;\n",
       "    }\n",
       "\n",
       "    .dataframe thead th {\n",
       "        text-align: right;\n",
       "    }\n",
       "</style>\n",
       "<table border=\"1\" class=\"dataframe\">\n",
       "  <thead>\n",
       "    <tr style=\"text-align: right;\">\n",
       "      <th></th>\n",
       "      <th>artist</th>\n",
       "      <th>song</th>\n",
       "      <th>text</th>\n",
       "    </tr>\n",
       "  </thead>\n",
       "  <tbody>\n",
       "    <tr>\n",
       "      <th>2359</th>\n",
       "      <td>Robbie Williams</td>\n",
       "      <td>The Actor</td>\n",
       "      <td>principal actors to the stage please,  \\ract o...</td>\n",
       "    </tr>\n",
       "    <tr>\n",
       "      <th>2871</th>\n",
       "      <td>Tori Amos</td>\n",
       "      <td>Cornflake Girl</td>\n",
       "      <td>never was a cornflake girl  \\rthought that was...</td>\n",
       "    </tr>\n",
       "    <tr>\n",
       "      <th>697</th>\n",
       "      <td>Cheap Trick</td>\n",
       "      <td>Wrong Side Of Love</td>\n",
       "      <td>she said that she's got something else on her ...</td>\n",
       "    </tr>\n",
       "    <tr>\n",
       "      <th>4848</th>\n",
       "      <td>Morrissey</td>\n",
       "      <td>Heir Apparent</td>\n",
       "      <td>i came back to my old city  \\rwith fierce dete...</td>\n",
       "    </tr>\n",
       "    <tr>\n",
       "      <th>4938</th>\n",
       "      <td>Scorpions</td>\n",
       "      <td>When You Came Into My Life</td>\n",
       "      <td>you give me your smile  \\ra piece of your hear...</td>\n",
       "    </tr>\n",
       "    <tr>\n",
       "      <th>...</th>\n",
       "      <td>...</td>\n",
       "      <td>...</td>\n",
       "      <td>...</td>\n",
       "    </tr>\n",
       "    <tr>\n",
       "      <th>3980</th>\n",
       "      <td>Harry Connick, Jr.</td>\n",
       "      <td>Good Night My Love (Pleasant Dreams)</td>\n",
       "      <td>goodnight, my love  \\rpleasant dreams and slee...</td>\n",
       "    </tr>\n",
       "    <tr>\n",
       "      <th>3225</th>\n",
       "      <td>Black Sabbath</td>\n",
       "      <td>Feels Good To Me</td>\n",
       "      <td>the chapter is opened and the pages are turned...</td>\n",
       "    </tr>\n",
       "    <tr>\n",
       "      <th>1636</th>\n",
       "      <td>Def Leppard</td>\n",
       "      <td>Good Morning Freedom</td>\n",
       "      <td>well good morning freedom  \\ri've been woken t...</td>\n",
       "    </tr>\n",
       "    <tr>\n",
       "      <th>2027</th>\n",
       "      <td>Reo Speedwagon</td>\n",
       "      <td>Hooked On A Feeling</td>\n",
       "      <td>\"i can't stop this feeling  \\rdeep inside of m...</td>\n",
       "    </tr>\n",
       "    <tr>\n",
       "      <th>4875</th>\n",
       "      <td>Katy Perry</td>\n",
       "      <td>A Cup Of Cofee</td>\n",
       "      <td>i take these turns  \\ra bit too fast  \\rtrying...</td>\n",
       "    </tr>\n",
       "  </tbody>\n",
       "</table>\n",
       "<p>5000 rows × 3 columns</p>\n",
       "</div>"
      ],
      "text/plain": [
       "                  artist                                  song  \\\n",
       "2359     Robbie Williams                             The Actor   \n",
       "2871           Tori Amos                        Cornflake Girl   \n",
       "697          Cheap Trick                    Wrong Side Of Love   \n",
       "4848           Morrissey                         Heir Apparent   \n",
       "4938           Scorpions            When You Came Into My Life   \n",
       "...                  ...                                   ...   \n",
       "3980  Harry Connick, Jr.  Good Night My Love (Pleasant Dreams)   \n",
       "3225       Black Sabbath                      Feels Good To Me   \n",
       "1636         Def Leppard                  Good Morning Freedom   \n",
       "2027      Reo Speedwagon                   Hooked On A Feeling   \n",
       "4875          Katy Perry                        A Cup Of Cofee   \n",
       "\n",
       "                                                   text  \n",
       "2359  principal actors to the stage please,  \\ract o...  \n",
       "2871  never was a cornflake girl  \\rthought that was...  \n",
       "697   she said that she's got something else on her ...  \n",
       "4848  i came back to my old city  \\rwith fierce dete...  \n",
       "4938  you give me your smile  \\ra piece of your hear...  \n",
       "...                                                 ...  \n",
       "3980  goodnight, my love  \\rpleasant dreams and slee...  \n",
       "3225  the chapter is opened and the pages are turned...  \n",
       "1636  well good morning freedom  \\ri've been woken t...  \n",
       "2027  \"i can't stop this feeling  \\rdeep inside of m...  \n",
       "4875  i take these turns  \\ra bit too fast  \\rtrying...  \n",
       "\n",
       "[5000 rows x 3 columns]"
      ]
     },
     "execution_count": 161,
     "metadata": {},
     "output_type": "execute_result"
    }
   ],
   "source": [
    "Music_Dataset"
   ]
  },
  {
   "cell_type": "code",
   "execution_count": 162,
   "metadata": {},
   "outputs": [
    {
     "data": {
      "text/html": [
       "<div>\n",
       "<style scoped>\n",
       "    .dataframe tbody tr th:only-of-type {\n",
       "        vertical-align: middle;\n",
       "    }\n",
       "\n",
       "    .dataframe tbody tr th {\n",
       "        vertical-align: top;\n",
       "    }\n",
       "\n",
       "    .dataframe thead th {\n",
       "        text-align: right;\n",
       "    }\n",
       "</style>\n",
       "<table border=\"1\" class=\"dataframe\">\n",
       "  <thead>\n",
       "    <tr style=\"text-align: right;\">\n",
       "      <th></th>\n",
       "      <th>artist</th>\n",
       "      <th>song</th>\n",
       "      <th>text</th>\n",
       "    </tr>\n",
       "  </thead>\n",
       "  <tbody>\n",
       "    <tr>\n",
       "      <th>3980</th>\n",
       "      <td>Harry Connick, Jr.</td>\n",
       "      <td>Good Night My Love (Pleasant Dreams)</td>\n",
       "      <td>goodnight, my love  \\rpleasant dreams and slee...</td>\n",
       "    </tr>\n",
       "    <tr>\n",
       "      <th>3225</th>\n",
       "      <td>Black Sabbath</td>\n",
       "      <td>Feels Good To Me</td>\n",
       "      <td>the chapter is opened and the pages are turned...</td>\n",
       "    </tr>\n",
       "    <tr>\n",
       "      <th>1636</th>\n",
       "      <td>Def Leppard</td>\n",
       "      <td>Good Morning Freedom</td>\n",
       "      <td>well good morning freedom  \\ri've been woken t...</td>\n",
       "    </tr>\n",
       "    <tr>\n",
       "      <th>2027</th>\n",
       "      <td>Reo Speedwagon</td>\n",
       "      <td>Hooked On A Feeling</td>\n",
       "      <td>\"i can't stop this feeling  \\rdeep inside of m...</td>\n",
       "    </tr>\n",
       "    <tr>\n",
       "      <th>4875</th>\n",
       "      <td>Katy Perry</td>\n",
       "      <td>A Cup Of Cofee</td>\n",
       "      <td>i take these turns  \\ra bit too fast  \\rtrying...</td>\n",
       "    </tr>\n",
       "  </tbody>\n",
       "</table>\n",
       "</div>"
      ],
      "text/plain": [
       "                  artist                                  song  \\\n",
       "3980  Harry Connick, Jr.  Good Night My Love (Pleasant Dreams)   \n",
       "3225       Black Sabbath                      Feels Good To Me   \n",
       "1636         Def Leppard                  Good Morning Freedom   \n",
       "2027      Reo Speedwagon                   Hooked On A Feeling   \n",
       "4875          Katy Perry                        A Cup Of Cofee   \n",
       "\n",
       "                                                   text  \n",
       "3980  goodnight, my love  \\rpleasant dreams and slee...  \n",
       "3225  the chapter is opened and the pages are turned...  \n",
       "1636  well good morning freedom  \\ri've been woken t...  \n",
       "2027  \"i can't stop this feeling  \\rdeep inside of m...  \n",
       "4875  i take these turns  \\ra bit too fast  \\rtrying...  "
      ]
     },
     "execution_count": 162,
     "metadata": {},
     "output_type": "execute_result"
    }
   ],
   "source": [
    "Music_Dataset.tail(5)"
   ]
  },
  {
   "cell_type": "code",
   "execution_count": 163,
   "metadata": {},
   "outputs": [],
   "source": [
    "import nltk\n",
    "from nltk.stem.porter import PorterStemmer"
   ]
  },
  {
   "cell_type": "code",
   "execution_count": 164,
   "metadata": {},
   "outputs": [],
   "source": [
    "stemmer = PorterStemmer()"
   ]
  },
  {
   "cell_type": "code",
   "execution_count": 178,
   "metadata": {},
   "outputs": [],
   "source": [
    "def tokenization(txt):\n",
    "    token = nltk.word_tokenize(txt)\n",
    "    stemming = [stemmer.stem(w) for w in token]\n",
    "    return \" \".join(stemming)"
   ]
  },
  {
   "cell_type": "code",
   "execution_count": 167,
   "metadata": {},
   "outputs": [],
   "source": [
    "from sklearn.feature_extraction.text import TfidfVectorizer\n",
    "from sklearn.metrics.pairwise import cosine_similarity"
   ]
  },
  {
   "cell_type": "code",
   "execution_count": 168,
   "metadata": {},
   "outputs": [],
   "source": [
    "tfid = TfidfVectorizer(analyzer='word',stop_words='english')"
   ]
  },
  {
   "cell_type": "code",
   "execution_count": 169,
   "metadata": {},
   "outputs": [
    {
     "data": {
      "text/plain": [
       "<5000x23768 sparse matrix of type '<class 'numpy.float64'>'\n",
       "\twith 270101 stored elements in Compressed Sparse Row format>"
      ]
     },
     "execution_count": 169,
     "metadata": {},
     "output_type": "execute_result"
    }
   ],
   "source": [
    "tfid.fit_transform(Music_Dataset['text'])"
   ]
  },
  {
   "cell_type": "code",
   "execution_count": 170,
   "metadata": {},
   "outputs": [],
   "source": [
    "matrix = tfid.fit_transform(Music_Dataset['text'])"
   ]
  },
  {
   "cell_type": "code",
   "execution_count": 171,
   "metadata": {},
   "outputs": [],
   "source": [
    "similar = cosine_similarity(matrix)"
   ]
  },
  {
   "cell_type": "code",
   "execution_count": 172,
   "metadata": {},
   "outputs": [
    {
     "data": {
      "text/plain": [
       "array([1.        , 0.00767591, 0.01716364, ..., 0.02990648, 0.0356129 ,\n",
       "       0.02085736])"
      ]
     },
     "execution_count": 172,
     "metadata": {},
     "output_type": "execute_result"
    }
   ],
   "source": [
    "similar[0]"
   ]
  },
  {
   "cell_type": "code",
   "execution_count": 180,
   "metadata": {},
   "outputs": [
    {
     "data": {
      "text/html": [
       "<div>\n",
       "<style scoped>\n",
       "    .dataframe tbody tr th:only-of-type {\n",
       "        vertical-align: middle;\n",
       "    }\n",
       "\n",
       "    .dataframe tbody tr th {\n",
       "        vertical-align: top;\n",
       "    }\n",
       "\n",
       "    .dataframe thead th {\n",
       "        text-align: right;\n",
       "    }\n",
       "</style>\n",
       "<table border=\"1\" class=\"dataframe\">\n",
       "  <thead>\n",
       "    <tr style=\"text-align: right;\">\n",
       "      <th></th>\n",
       "      <th>artist</th>\n",
       "      <th>song</th>\n",
       "      <th>text</th>\n",
       "    </tr>\n",
       "  </thead>\n",
       "  <tbody>\n",
       "  </tbody>\n",
       "</table>\n",
       "</div>"
      ],
      "text/plain": [
       "Empty DataFrame\n",
       "Columns: [artist, song, text]\n",
       "Index: []"
      ]
     },
     "execution_count": 180,
     "metadata": {},
     "output_type": "execute_result"
    }
   ],
   "source": [
    "Music_Dataset[Music_Dataset['song']=='Expecting Brainchild']"
   ]
  },
  {
   "cell_type": "markdown",
   "metadata": {},
   "source": [
    "RECOMMENDER FUNCTION"
   ]
  },
  {
   "cell_type": "code",
   "execution_count": 187,
   "metadata": {},
   "outputs": [],
   "source": [
    "def recommender(song_name):\n",
    "    id = Music_Dataset[Music_Dataset['song']==song_name].index[0]\n",
    "    distance = sorted(list(enumerate(similar[id])),reverse=True,key=lambda x:x[1])\n",
    "    song = []\n",
    "    for s_id in distance[1:20]:\n",
    "        song.append(Music_Dataset.iloc[s_id[0]].song)\n",
    "    return song"
   ]
  },
  {
   "cell_type": "code",
   "execution_count": 188,
   "metadata": {},
   "outputs": [
    {
     "data": {
      "text/plain": [
       "['Brave New World',\n",
       " 'Country Road',\n",
       " 'Heart Of The Country',\n",
       " 'Country House',\n",
       " 'A Few Ole Country Boys',\n",
       " 'Country Pie',\n",
       " 'Bewitched',\n",
       " 'High Country Snows',\n",
       " 'Bewitched',\n",
       " 'Brave',\n",
       " 'Country State Of Mind',\n",
       " \"I'm Going Back Home\",\n",
       " 'Call Me',\n",
       " 'Heavy',\n",
       " 'Born To Be Wild',\n",
       " 'Born To Be Wild',\n",
       " 'Little Girl',\n",
       " 'Feels Like The First Time',\n",
       " 'Shadows Of The Big Man']"
      ]
     },
     "execution_count": 188,
     "metadata": {},
     "output_type": "execute_result"
    }
   ],
   "source": [
    "recommender(\"Hooked On A Feeling\")"
   ]
  },
  {
   "cell_type": "code",
   "execution_count": 189,
   "metadata": {},
   "outputs": [],
   "source": [
    "import pickle"
   ]
  },
  {
   "cell_type": "code",
   "execution_count": 190,
   "metadata": {},
   "outputs": [],
   "source": [
    "pickle.dump(similar, open('similarity','wb'))"
   ]
  },
  {
   "cell_type": "code",
   "execution_count": 191,
   "metadata": {},
   "outputs": [],
   "source": [
    "pickle.dump(Music_Dataset,open(\"Music_Dataset\",\"wb\"))"
   ]
  }
 ],
 "metadata": {
  "kernelspec": {
   "display_name": "Python 3",
   "language": "python",
   "name": "python3"
  },
  "language_info": {
   "codemirror_mode": {
    "name": "ipython",
    "version": 3
   },
   "file_extension": ".py",
   "mimetype": "text/x-python",
   "name": "python",
   "nbconvert_exporter": "python",
   "pygments_lexer": "ipython3",
   "version": "3.10.7"
  }
 },
 "nbformat": 4,
 "nbformat_minor": 2
}
